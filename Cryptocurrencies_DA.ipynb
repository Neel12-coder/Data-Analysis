{
  "nbformat": 4,
  "nbformat_minor": 0,
  "metadata": {
    "colab": {
      "name": "Cryptocurrencies_DA.ipynb",
      "provenance": [],
      "authorship_tag": "ABX9TyNbofDzbiHoUnR46Rt1L3zE",
      "include_colab_link": true
    },
    "kernelspec": {
      "name": "python3",
      "display_name": "Python 3"
    },
    "language_info": {
      "name": "python"
    }
  },
  "cells": [
    {
      "cell_type": "markdown",
      "metadata": {
        "id": "view-in-github",
        "colab_type": "text"
      },
      "source": [
        "<a href=\"https://colab.research.google.com/github/Neel12-coder/Data-Analysis/blob/main/Cryptocurrencies_DA.ipynb\" target=\"_parent\"><img src=\"https://colab.research.google.com/assets/colab-badge.svg\" alt=\"Open In Colab\"/></a>"
      ]
    },
    {
      "cell_type": "code",
      "execution_count": 1,
      "metadata": {
        "id": "6vAu_vGczlts"
      },
      "outputs": [],
      "source": [
        "import pandas as pd\n",
        "import requests"
      ]
    },
    {
      "cell_type": "code",
      "source": [
        "def get_historic_price(symbol, exchange='bitfinex', after='2018-09-01'):\n",
        "    url = 'https://api.cryptowat.ch/markets/{exchange}/{symbol}usd/ohlc'.format(\n",
        "         exchange=exchange,symbol=symbol)\n",
        "    resp = requests.get(url, params={\n",
        "        'periods': '3600',\n",
        "        'after': str(int(pd.Timestamp(after).timestamp()))\n",
        "    })\n",
        "    resp.raise_for_status()\n",
        "    data = resp.json()\n",
        "    df = pd.DataFrame(data['result']['3600'], columns=[\n",
        "        'CloseTime', 'OpenPrice', 'HighPrice', 'LowPrice', 'ClosePrice', 'Volume', 'NA'\n",
        "    ])\n",
        "    df['CloseTime'] = pd.to_datetime(df['CloseTime'], unit='s')\n",
        "    df.set_index('CloseTime', inplace=True)\n",
        "    return df"
      ],
      "metadata": {
        "id": "Z_COzUvb0EH-"
      },
      "execution_count": 2,
      "outputs": []
    },
    {
      "cell_type": "code",
      "source": [
        "#to get data of last to last week\n",
        "last_week = (pd.Timestamp.now() - pd.offsets.Day(14))\n",
        "last_week"
      ],
      "metadata": {
        "colab": {
          "base_uri": "https://localhost:8080/"
        },
        "id": "YsOgOQpT08Mk",
        "outputId": "625fb032-f9f3-48b1-c029-a3267ce683b6"
      },
      "execution_count": 3,
      "outputs": [
        {
          "output_type": "execute_result",
          "data": {
            "text/plain": [
              "Timestamp('2022-02-26 06:33:21.560927')"
            ]
          },
          "metadata": {},
          "execution_count": 3
        }
      ]
    },
    {
      "cell_type": "code",
      "source": [
        "btc = get_historic_price('btc', 'bitstamp', after=last_week)"
      ],
      "metadata": {
        "id": "X88rJUrC1OAg"
      },
      "execution_count": 4,
      "outputs": []
    },
    {
      "cell_type": "code",
      "source": [
        "btc.head()"
      ],
      "metadata": {
        "colab": {
          "base_uri": "https://localhost:8080/",
          "height": 238
        },
        "id": "7oHSd0JB1Wlk",
        "outputId": "07d04a3e-1e59-4678-d236-3affd6264314"
      },
      "execution_count": 5,
      "outputs": [
        {
          "output_type": "execute_result",
          "data": {
            "text/plain": [
              "                     OpenPrice  HighPrice  LowPrice  ClosePrice     Volume  \\\n",
              "CloseTime                                                                    \n",
              "2022-02-26 07:00:00   39040.81   39247.96  39027.33    39163.28  29.522115   \n",
              "2022-02-26 08:00:00   39178.00   39240.47  38979.77    39227.40  30.429355   \n",
              "2022-02-26 09:00:00   39219.53   39559.22  38695.24    38792.49  57.297222   \n",
              "2022-02-26 10:00:00   38766.97   38946.63  38600.00    38822.90  22.874845   \n",
              "2022-02-26 11:00:00   38798.06   39109.76  38798.06    39034.10  21.263125   \n",
              "\n",
              "                               NA  \n",
              "CloseTime                          \n",
              "2022-02-26 07:00:00  1.156164e+06  \n",
              "2022-02-26 08:00:00  1.191532e+06  \n",
              "2022-02-26 09:00:00  2.236784e+06  \n",
              "2022-02-26 10:00:00  8.859174e+05  \n",
              "2022-02-26 11:00:00  8.295675e+05  "
            ],
            "text/html": [
              "\n",
              "  <div id=\"df-9db952da-cadd-4be0-a661-783b8b32e858\">\n",
              "    <div class=\"colab-df-container\">\n",
              "      <div>\n",
              "<style scoped>\n",
              "    .dataframe tbody tr th:only-of-type {\n",
              "        vertical-align: middle;\n",
              "    }\n",
              "\n",
              "    .dataframe tbody tr th {\n",
              "        vertical-align: top;\n",
              "    }\n",
              "\n",
              "    .dataframe thead th {\n",
              "        text-align: right;\n",
              "    }\n",
              "</style>\n",
              "<table border=\"1\" class=\"dataframe\">\n",
              "  <thead>\n",
              "    <tr style=\"text-align: right;\">\n",
              "      <th></th>\n",
              "      <th>OpenPrice</th>\n",
              "      <th>HighPrice</th>\n",
              "      <th>LowPrice</th>\n",
              "      <th>ClosePrice</th>\n",
              "      <th>Volume</th>\n",
              "      <th>NA</th>\n",
              "    </tr>\n",
              "    <tr>\n",
              "      <th>CloseTime</th>\n",
              "      <th></th>\n",
              "      <th></th>\n",
              "      <th></th>\n",
              "      <th></th>\n",
              "      <th></th>\n",
              "      <th></th>\n",
              "    </tr>\n",
              "  </thead>\n",
              "  <tbody>\n",
              "    <tr>\n",
              "      <th>2022-02-26 07:00:00</th>\n",
              "      <td>39040.81</td>\n",
              "      <td>39247.96</td>\n",
              "      <td>39027.33</td>\n",
              "      <td>39163.28</td>\n",
              "      <td>29.522115</td>\n",
              "      <td>1.156164e+06</td>\n",
              "    </tr>\n",
              "    <tr>\n",
              "      <th>2022-02-26 08:00:00</th>\n",
              "      <td>39178.00</td>\n",
              "      <td>39240.47</td>\n",
              "      <td>38979.77</td>\n",
              "      <td>39227.40</td>\n",
              "      <td>30.429355</td>\n",
              "      <td>1.191532e+06</td>\n",
              "    </tr>\n",
              "    <tr>\n",
              "      <th>2022-02-26 09:00:00</th>\n",
              "      <td>39219.53</td>\n",
              "      <td>39559.22</td>\n",
              "      <td>38695.24</td>\n",
              "      <td>38792.49</td>\n",
              "      <td>57.297222</td>\n",
              "      <td>2.236784e+06</td>\n",
              "    </tr>\n",
              "    <tr>\n",
              "      <th>2022-02-26 10:00:00</th>\n",
              "      <td>38766.97</td>\n",
              "      <td>38946.63</td>\n",
              "      <td>38600.00</td>\n",
              "      <td>38822.90</td>\n",
              "      <td>22.874845</td>\n",
              "      <td>8.859174e+05</td>\n",
              "    </tr>\n",
              "    <tr>\n",
              "      <th>2022-02-26 11:00:00</th>\n",
              "      <td>38798.06</td>\n",
              "      <td>39109.76</td>\n",
              "      <td>38798.06</td>\n",
              "      <td>39034.10</td>\n",
              "      <td>21.263125</td>\n",
              "      <td>8.295675e+05</td>\n",
              "    </tr>\n",
              "  </tbody>\n",
              "</table>\n",
              "</div>\n",
              "      <button class=\"colab-df-convert\" onclick=\"convertToInteractive('df-9db952da-cadd-4be0-a661-783b8b32e858')\"\n",
              "              title=\"Convert this dataframe to an interactive table.\"\n",
              "              style=\"display:none;\">\n",
              "        \n",
              "  <svg xmlns=\"http://www.w3.org/2000/svg\" height=\"24px\"viewBox=\"0 0 24 24\"\n",
              "       width=\"24px\">\n",
              "    <path d=\"M0 0h24v24H0V0z\" fill=\"none\"/>\n",
              "    <path d=\"M18.56 5.44l.94 2.06.94-2.06 2.06-.94-2.06-.94-.94-2.06-.94 2.06-2.06.94zm-11 1L8.5 8.5l.94-2.06 2.06-.94-2.06-.94L8.5 2.5l-.94 2.06-2.06.94zm10 10l.94 2.06.94-2.06 2.06-.94-2.06-.94-.94-2.06-.94 2.06-2.06.94z\"/><path d=\"M17.41 7.96l-1.37-1.37c-.4-.4-.92-.59-1.43-.59-.52 0-1.04.2-1.43.59L10.3 9.45l-7.72 7.72c-.78.78-.78 2.05 0 2.83L4 21.41c.39.39.9.59 1.41.59.51 0 1.02-.2 1.41-.59l7.78-7.78 2.81-2.81c.8-.78.8-2.07 0-2.86zM5.41 20L4 18.59l7.72-7.72 1.47 1.35L5.41 20z\"/>\n",
              "  </svg>\n",
              "      </button>\n",
              "      \n",
              "  <style>\n",
              "    .colab-df-container {\n",
              "      display:flex;\n",
              "      flex-wrap:wrap;\n",
              "      gap: 12px;\n",
              "    }\n",
              "\n",
              "    .colab-df-convert {\n",
              "      background-color: #E8F0FE;\n",
              "      border: none;\n",
              "      border-radius: 50%;\n",
              "      cursor: pointer;\n",
              "      display: none;\n",
              "      fill: #1967D2;\n",
              "      height: 32px;\n",
              "      padding: 0 0 0 0;\n",
              "      width: 32px;\n",
              "    }\n",
              "\n",
              "    .colab-df-convert:hover {\n",
              "      background-color: #E2EBFA;\n",
              "      box-shadow: 0px 1px 2px rgba(60, 64, 67, 0.3), 0px 1px 3px 1px rgba(60, 64, 67, 0.15);\n",
              "      fill: #174EA6;\n",
              "    }\n",
              "\n",
              "    [theme=dark] .colab-df-convert {\n",
              "      background-color: #3B4455;\n",
              "      fill: #D2E3FC;\n",
              "    }\n",
              "\n",
              "    [theme=dark] .colab-df-convert:hover {\n",
              "      background-color: #434B5C;\n",
              "      box-shadow: 0px 1px 3px 1px rgba(0, 0, 0, 0.15);\n",
              "      filter: drop-shadow(0px 1px 2px rgba(0, 0, 0, 0.3));\n",
              "      fill: #FFFFFF;\n",
              "    }\n",
              "  </style>\n",
              "\n",
              "      <script>\n",
              "        const buttonEl =\n",
              "          document.querySelector('#df-9db952da-cadd-4be0-a661-783b8b32e858 button.colab-df-convert');\n",
              "        buttonEl.style.display =\n",
              "          google.colab.kernel.accessAllowed ? 'block' : 'none';\n",
              "\n",
              "        async function convertToInteractive(key) {\n",
              "          const element = document.querySelector('#df-9db952da-cadd-4be0-a661-783b8b32e858');\n",
              "          const dataTable =\n",
              "            await google.colab.kernel.invokeFunction('convertToInteractive',\n",
              "                                                     [key], {});\n",
              "          if (!dataTable) return;\n",
              "\n",
              "          const docLinkHtml = 'Like what you see? Visit the ' +\n",
              "            '<a target=\"_blank\" href=https://colab.research.google.com/notebooks/data_table.ipynb>data table notebook</a>'\n",
              "            + ' to learn more about interactive tables.';\n",
              "          element.innerHTML = '';\n",
              "          dataTable['output_type'] = 'display_data';\n",
              "          await google.colab.output.renderOutput(dataTable, element);\n",
              "          const docLink = document.createElement('div');\n",
              "          docLink.innerHTML = docLinkHtml;\n",
              "          element.appendChild(docLink);\n",
              "        }\n",
              "      </script>\n",
              "    </div>\n",
              "  </div>\n",
              "  "
            ]
          },
          "metadata": {},
          "execution_count": 5
        }
      ]
    },
    {
      "cell_type": "code",
      "source": [
        "eth = get_historic_price(symbol='eth',exchange='bitstamp',after=last_week)"
      ],
      "metadata": {
        "id": "_kmcuO1f1Y2J"
      },
      "execution_count": 6,
      "outputs": []
    },
    {
      "cell_type": "code",
      "source": [
        "eth.head()"
      ],
      "metadata": {
        "colab": {
          "base_uri": "https://localhost:8080/",
          "height": 238
        },
        "id": "f2kZmpeH1ni8",
        "outputId": "88d7f83c-618c-4d0a-fe02-25b3f490bcec"
      },
      "execution_count": 7,
      "outputs": [
        {
          "output_type": "execute_result",
          "data": {
            "text/plain": [
              "                     OpenPrice  HighPrice  LowPrice  ClosePrice      Volume  \\\n",
              "CloseTime                                                                     \n",
              "2022-02-26 07:00:00    2777.75    2792.55   2777.75     2779.96   90.181525   \n",
              "2022-02-26 08:00:00    2781.20    2792.15   2759.48     2791.19  259.357454   \n",
              "2022-02-26 09:00:00    2794.33    2815.46   2744.44     2755.69  579.894503   \n",
              "2022-02-26 10:00:00    2751.94    2763.88   2728.58     2750.32  218.604469   \n",
              "2022-02-26 11:00:00    2747.04    2775.46   2747.04     2770.93  179.179344   \n",
              "\n",
              "                               NA  \n",
              "CloseTime                          \n",
              "2022-02-26 07:00:00  2.510643e+05  \n",
              "2022-02-26 08:00:00  7.190108e+05  \n",
              "2022-02-26 09:00:00  1.617162e+06  \n",
              "2022-02-26 10:00:00  6.020701e+05  \n",
              "2022-02-26 11:00:00  4.945468e+05  "
            ],
            "text/html": [
              "\n",
              "  <div id=\"df-8fb7a3bd-b377-40e0-ab7a-7dc1fa238115\">\n",
              "    <div class=\"colab-df-container\">\n",
              "      <div>\n",
              "<style scoped>\n",
              "    .dataframe tbody tr th:only-of-type {\n",
              "        vertical-align: middle;\n",
              "    }\n",
              "\n",
              "    .dataframe tbody tr th {\n",
              "        vertical-align: top;\n",
              "    }\n",
              "\n",
              "    .dataframe thead th {\n",
              "        text-align: right;\n",
              "    }\n",
              "</style>\n",
              "<table border=\"1\" class=\"dataframe\">\n",
              "  <thead>\n",
              "    <tr style=\"text-align: right;\">\n",
              "      <th></th>\n",
              "      <th>OpenPrice</th>\n",
              "      <th>HighPrice</th>\n",
              "      <th>LowPrice</th>\n",
              "      <th>ClosePrice</th>\n",
              "      <th>Volume</th>\n",
              "      <th>NA</th>\n",
              "    </tr>\n",
              "    <tr>\n",
              "      <th>CloseTime</th>\n",
              "      <th></th>\n",
              "      <th></th>\n",
              "      <th></th>\n",
              "      <th></th>\n",
              "      <th></th>\n",
              "      <th></th>\n",
              "    </tr>\n",
              "  </thead>\n",
              "  <tbody>\n",
              "    <tr>\n",
              "      <th>2022-02-26 07:00:00</th>\n",
              "      <td>2777.75</td>\n",
              "      <td>2792.55</td>\n",
              "      <td>2777.75</td>\n",
              "      <td>2779.96</td>\n",
              "      <td>90.181525</td>\n",
              "      <td>2.510643e+05</td>\n",
              "    </tr>\n",
              "    <tr>\n",
              "      <th>2022-02-26 08:00:00</th>\n",
              "      <td>2781.20</td>\n",
              "      <td>2792.15</td>\n",
              "      <td>2759.48</td>\n",
              "      <td>2791.19</td>\n",
              "      <td>259.357454</td>\n",
              "      <td>7.190108e+05</td>\n",
              "    </tr>\n",
              "    <tr>\n",
              "      <th>2022-02-26 09:00:00</th>\n",
              "      <td>2794.33</td>\n",
              "      <td>2815.46</td>\n",
              "      <td>2744.44</td>\n",
              "      <td>2755.69</td>\n",
              "      <td>579.894503</td>\n",
              "      <td>1.617162e+06</td>\n",
              "    </tr>\n",
              "    <tr>\n",
              "      <th>2022-02-26 10:00:00</th>\n",
              "      <td>2751.94</td>\n",
              "      <td>2763.88</td>\n",
              "      <td>2728.58</td>\n",
              "      <td>2750.32</td>\n",
              "      <td>218.604469</td>\n",
              "      <td>6.020701e+05</td>\n",
              "    </tr>\n",
              "    <tr>\n",
              "      <th>2022-02-26 11:00:00</th>\n",
              "      <td>2747.04</td>\n",
              "      <td>2775.46</td>\n",
              "      <td>2747.04</td>\n",
              "      <td>2770.93</td>\n",
              "      <td>179.179344</td>\n",
              "      <td>4.945468e+05</td>\n",
              "    </tr>\n",
              "  </tbody>\n",
              "</table>\n",
              "</div>\n",
              "      <button class=\"colab-df-convert\" onclick=\"convertToInteractive('df-8fb7a3bd-b377-40e0-ab7a-7dc1fa238115')\"\n",
              "              title=\"Convert this dataframe to an interactive table.\"\n",
              "              style=\"display:none;\">\n",
              "        \n",
              "  <svg xmlns=\"http://www.w3.org/2000/svg\" height=\"24px\"viewBox=\"0 0 24 24\"\n",
              "       width=\"24px\">\n",
              "    <path d=\"M0 0h24v24H0V0z\" fill=\"none\"/>\n",
              "    <path d=\"M18.56 5.44l.94 2.06.94-2.06 2.06-.94-2.06-.94-.94-2.06-.94 2.06-2.06.94zm-11 1L8.5 8.5l.94-2.06 2.06-.94-2.06-.94L8.5 2.5l-.94 2.06-2.06.94zm10 10l.94 2.06.94-2.06 2.06-.94-2.06-.94-.94-2.06-.94 2.06-2.06.94z\"/><path d=\"M17.41 7.96l-1.37-1.37c-.4-.4-.92-.59-1.43-.59-.52 0-1.04.2-1.43.59L10.3 9.45l-7.72 7.72c-.78.78-.78 2.05 0 2.83L4 21.41c.39.39.9.59 1.41.59.51 0 1.02-.2 1.41-.59l7.78-7.78 2.81-2.81c.8-.78.8-2.07 0-2.86zM5.41 20L4 18.59l7.72-7.72 1.47 1.35L5.41 20z\"/>\n",
              "  </svg>\n",
              "      </button>\n",
              "      \n",
              "  <style>\n",
              "    .colab-df-container {\n",
              "      display:flex;\n",
              "      flex-wrap:wrap;\n",
              "      gap: 12px;\n",
              "    }\n",
              "\n",
              "    .colab-df-convert {\n",
              "      background-color: #E8F0FE;\n",
              "      border: none;\n",
              "      border-radius: 50%;\n",
              "      cursor: pointer;\n",
              "      display: none;\n",
              "      fill: #1967D2;\n",
              "      height: 32px;\n",
              "      padding: 0 0 0 0;\n",
              "      width: 32px;\n",
              "    }\n",
              "\n",
              "    .colab-df-convert:hover {\n",
              "      background-color: #E2EBFA;\n",
              "      box-shadow: 0px 1px 2px rgba(60, 64, 67, 0.3), 0px 1px 3px 1px rgba(60, 64, 67, 0.15);\n",
              "      fill: #174EA6;\n",
              "    }\n",
              "\n",
              "    [theme=dark] .colab-df-convert {\n",
              "      background-color: #3B4455;\n",
              "      fill: #D2E3FC;\n",
              "    }\n",
              "\n",
              "    [theme=dark] .colab-df-convert:hover {\n",
              "      background-color: #434B5C;\n",
              "      box-shadow: 0px 1px 3px 1px rgba(0, 0, 0, 0.15);\n",
              "      filter: drop-shadow(0px 1px 2px rgba(0, 0, 0, 0.3));\n",
              "      fill: #FFFFFF;\n",
              "    }\n",
              "  </style>\n",
              "\n",
              "      <script>\n",
              "        const buttonEl =\n",
              "          document.querySelector('#df-8fb7a3bd-b377-40e0-ab7a-7dc1fa238115 button.colab-df-convert');\n",
              "        buttonEl.style.display =\n",
              "          google.colab.kernel.accessAllowed ? 'block' : 'none';\n",
              "\n",
              "        async function convertToInteractive(key) {\n",
              "          const element = document.querySelector('#df-8fb7a3bd-b377-40e0-ab7a-7dc1fa238115');\n",
              "          const dataTable =\n",
              "            await google.colab.kernel.invokeFunction('convertToInteractive',\n",
              "                                                     [key], {});\n",
              "          if (!dataTable) return;\n",
              "\n",
              "          const docLinkHtml = 'Like what you see? Visit the ' +\n",
              "            '<a target=\"_blank\" href=https://colab.research.google.com/notebooks/data_table.ipynb>data table notebook</a>'\n",
              "            + ' to learn more about interactive tables.';\n",
              "          element.innerHTML = '';\n",
              "          dataTable['output_type'] = 'display_data';\n",
              "          await google.colab.output.renderOutput(dataTable, element);\n",
              "          const docLink = document.createElement('div');\n",
              "          docLink.innerHTML = docLinkHtml;\n",
              "          element.appendChild(docLink);\n",
              "        }\n",
              "      </script>\n",
              "    </div>\n",
              "  </div>\n",
              "  "
            ]
          },
          "metadata": {},
          "execution_count": 7
        }
      ]
    },
    {
      "cell_type": "code",
      "source": [
        "btc['ClosePrice'].plot(figsize = (14,7))"
      ],
      "metadata": {
        "colab": {
          "base_uri": "https://localhost:8080/",
          "height": 483
        },
        "id": "pxGA4OiZ1pts",
        "outputId": "37c091df-f4ad-43d8-adaa-622d56dbafa8"
      },
      "execution_count": 10,
      "outputs": [
        {
          "output_type": "execute_result",
          "data": {
            "text/plain": [
              "<matplotlib.axes._subplots.AxesSubplot at 0x7f44bfcd7ed0>"
            ]
          },
          "metadata": {},
          "execution_count": 10
        },
        {
          "output_type": "display_data",
          "data": {
            "text/plain": [
              "<Figure size 1008x504 with 1 Axes>"
            ],
            "image/png": "[encoded data removed]"
          },
          "metadata": {
            "needs_background": "light"
          }
        }
      ]
    },
    {
      "cell_type": "code",
      "source": [
        "eth['ClosePrice'].plot(figsize=(12,8))"
      ],
      "metadata": {
        "colab": {
          "base_uri": "https://localhost:8080/",
          "height": 538
        },
        "id": "jih3Vv0s13as",
        "outputId": "77596b0a-5989-47bf-d334-127b4e545203"
      },
      "execution_count": 11,
      "outputs": [
        {
          "output_type": "execute_result",
          "data": {
            "text/plain": [
              "<matplotlib.axes._subplots.AxesSubplot at 0x7f44bfbd9250>"
            ]
          },
          "metadata": {},
          "execution_count": 11
        },
        {
          "output_type": "display_data",
          "data": {
            "text/plain": [
              "<Figure size 864x576 with 1 Axes>"
            ],
            "image/png": "[encoded data removed]"
          },
          "metadata": {
            "needs_background": "light"
          }
        }
      ]
    },
    {
      "cell_type": "code",
      "source": [
        "#Dynamic Plots with Bokeh\n",
        "from bokeh.plotting import figure, output_file, show\n",
        "from bokeh.io import output_notebook"
      ],
      "metadata": {
        "id": "kgaCCynj2g_J"
      },
      "execution_count": 12,
      "outputs": []
    },
    {
      "cell_type": "code",
      "source": [
        "output_notebook()"
      ],
      "metadata": {
        "id": "0TseT8Jp5Wsi"
      },
      "execution_count": 13,
      "outputs": []
    },
    {
      "cell_type": "code",
      "source": [
        "p1 = figure(x_axis_type=\"datetime\", title=\"Crypto Prices\", width=800)\n",
        "p1.grid.grid_line_alpha=0.3\n",
        "p1.xaxis.axis_label = 'Date'\n",
        "p1.yaxis.axis_label = 'Price'\n",
        "\n",
        "p1.line(btc.index, btc['ClosePrice'], color='#f2a900', legend_label='Bitcoin')\n",
        "#p1.line(eth.index, eth['ClosePrice'], color='#A6CEE3', legend_label='Ether')\n",
        "\n",
        "p1.legend.location = \"top_left\"\n",
        "\n",
        "show(p1)"
      ],
      "metadata": {
        "colab": {
          "base_uri": "https://localhost:8080/",
          "height": 617
        },
        "id": "t784aCwk5aSO",
        "outputId": "f9976782-4ab8-4b31-fa25-6e793f0abb1f"
      },
      "execution_count": 15,
      "outputs": [
        {
          "output_type": "display_data",
          "data": {
            "application/javascript": [
              "\n",
              "(function(root) {\n",
              "  function now() {\n",
              "    return new Date();\n",
              "  }\n",
              "\n",
              "  var force = true;\n",
              "\n",
              "  if (typeof root._bokeh_onload_callbacks === \"undefined\" || force === true) {\n",
              "    root._bokeh_onload_callbacks = [];\n",
              "    root._bokeh_is_loading = undefined;\n",
              "  }\n",
              "\n",
              "  var JS_MIME_TYPE = 'application/javascript';\n",
              "  var HTML_MIME_TYPE = 'text/html';\n",
              "  var EXEC_MIME_TYPE = 'application/vnd.bokehjs_exec.v0+json';\n",
              "  var CLASS_NAME = 'output_bokeh rendered_html';\n",
              "\n",
              "  /**\n",
              "   * Render data to the DOM node\n",
              "   */\n",
              "  function render(props, node) {\n",
              "    var script = document.createElement(\"script\");\n",
              "    node.appendChild(script);\n",
              "  }\n",
              "\n",
              "  /**\n",
              "   * Handle when an output is cleared or removed\n",
              "   */\n",
              "  function handleClearOutput(event, handle) {\n",
              "    var cell = handle.cell;\n",
              "\n",
              "    var id = cell.output_area._bokeh_element_id;\n",
              "    var server_id = cell.output_area._bokeh_server_id;\n",
              "    // Clean up Bokeh references\n",
              "    if (id != null && id in Bokeh.index) {\n",
              "      Bokeh.index[id].model.document.clear();\n",
              "      delete Bokeh.index[id];\n",
              "    }\n",
              "\n",
              "    if (server_id !== undefined) {\n",
              "      // Clean up Bokeh references\n",
              "      var cmd = \"from bokeh.io.state import curstate; print(curstate().uuid_to_server['\" + server_id + \"'].get_sessions()[0].document.roots[0]._id)\";\n",
              "      cell.notebook.kernel.execute(cmd, {\n",
              "        iopub: {\n",
              "          output: function(msg) {\n",
              "            var id = msg.content.text.trim();\n",
              "            if (id in Bokeh.index) {\n",
              "              Bokeh.index[id].model.document.clear();\n",
              "              delete Bokeh.index[id];\n",
              "            }\n",
              "          }\n",
              "        }\n",
              "      });\n",
              "      // Destroy server and session\n",
              "      var cmd = \"import bokeh.io.notebook as ion; ion.destroy_server('\" + server_id + \"')\";\n",
              "      cell.notebook.kernel.execute(cmd);\n",
              "    }\n",
              "  }\n",
              "\n",
              "  /**\n",
              "   * Handle when a new output is added\n",
              "   */\n",
              "  function handleAddOutput(event, handle) {\n",
              "    var output_area = handle.output_area;\n",
              "    var output = handle.output;\n",
              "\n",
              "    // limit handleAddOutput to display_data with EXEC_MIME_TYPE content only\n",
              "    if ((output.output_type != \"display_data\") || (!Object.prototype.hasOwnProperty.call(output.data, EXEC_MIME_TYPE))) {\n",
              "      return\n",
              "    }\n",
              "\n",
              "    var toinsert = output_area.element.find(\".\" + CLASS_NAME.split(' ')[0]);\n",
              "\n",
              "    if (output.metadata[EXEC_MIME_TYPE][\"id\"] !== undefined) {\n",
              "      toinsert[toinsert.length - 1].firstChild.textContent = output.data[JS_MIME_TYPE];\n",
              "      // store reference to embed id on output_area\n",
              "      output_area._bokeh_element_id = output.metadata[EXEC_MIME_TYPE][\"id\"];\n",
              "    }\n",
              "    if (output.metadata[EXEC_MIME_TYPE][\"server_id\"] !== undefined) {\n",
              "      var bk_div = document.createElement(\"div\");\n",
              "      bk_div.innerHTML = output.data[HTML_MIME_TYPE];\n",
              "      var script_attrs = bk_div.children[0].attributes;\n",
              "      for (var i = 0; i < script_attrs.length; i++) {\n",
              "        toinsert[toinsert.length - 1].firstChild.setAttribute(script_attrs[i].name, script_attrs[i].value);\n",
              "        toinsert[toinsert.length - 1].firstChild.textContent = bk_div.children[0].textContent\n",
              "      }\n",
              "      // store reference to server id on output_area\n",
              "      output_area._bokeh_server_id = output.metadata[EXEC_MIME_TYPE][\"server_id\"];\n",
              "    }\n",
              "  }\n",
              "\n",
              "  function register_renderer(events, OutputArea) {\n",
              "\n",
              "    function append_mime(data, metadata, element) {\n",
              "      // create a DOM node to render to\n",
              "      var toinsert = this.create_output_subarea(\n",
              "        metadata,\n",
              "        CLASS_NAME,\n",
              "        EXEC_MIME_TYPE\n",
              "      );\n",
              "      this.keyboard_manager.register_events(toinsert);\n",
              "      // Render to node\n",
              "      var props = {data: data, metadata: metadata[EXEC_MIME_TYPE]};\n",
              "      render(props, toinsert[toinsert.length - 1]);\n",
              "      element.append(toinsert);\n",
              "      return toinsert\n",
              "    }\n",
              "\n",
              "    /* Handle when an output is cleared or removed */\n",
              "    events.on('clear_output.CodeCell', handleClearOutput);\n",
              "    events.on('delete.Cell', handleClearOutput);\n",
              "\n",
              "    /* Handle when a new output is added */\n",
              "    events.on('output_added.OutputArea', handleAddOutput);\n",
              "\n",
              "    /**\n",
              "     * Register the mime type and append_mime function with output_area\n",
              "     */\n",
              "    OutputArea.prototype.register_mime_type(EXEC_MIME_TYPE, append_mime, {\n",
              "      /* Is output safe? */\n",
              "      safe: true,\n",
              "      /* Index of renderer in `output_area.display_order` */\n",
              "      index: 0\n",
              "    });\n",
              "  }\n",
              "\n",
              "  // register the mime type if in Jupyter Notebook environment and previously unregistered\n",
              "  if (root.Jupyter !== undefined) {\n",
              "    var events = require('base/js/events');\n",
              "    var OutputArea = require('notebook/js/outputarea').OutputArea;\n",
              "\n",
              "    if (OutputArea.prototype.mime_types().indexOf(EXEC_MIME_TYPE) == -1) {\n",
              "      register_renderer(events, OutputArea);\n",
              "    }\n",
              "  }\n",
              "\n",
              "  \n",
              "  if (typeof (root._bokeh_timeout) === \"undefined\" || force === true) {\n",
              "    root._bokeh_timeout = Date.now() + 5000;\n",
              "    root._bokeh_failed_load = false;\n",
              "  }\n",
              "\n",
              "  var NB_LOAD_WARNING = {'data': {'text/html':\n",
              "     \"<div style='background-color: #fdd'>\\n\"+\n",
              "     \"<p>\\n\"+\n",
              "     \"BokehJS does not appear to have successfully loaded. If loading BokehJS from CDN, this \\n\"+\n",
              "     \"may be due to a slow or bad network connection. Possible fixes:\\n\"+\n",
              "     \"</p>\\n\"+\n",
              "     \"<ul>\\n\"+\n",
              "     \"<li>re-rerun `output_notebook()` to attempt to load from CDN again, or</li>\\n\"+\n",
              "     \"<li>use INLINE resources instead, as so:</li>\\n\"+\n",
              "     \"</ul>\\n\"+\n",
              "     \"<code>\\n\"+\n",
              "     \"from bokeh.resources import INLINE\\n\"+\n",
              "     \"output_notebook(resources=INLINE)\\n\"+\n",
              "     \"</code>\\n\"+\n",
              "     \"</div>\"}};\n",
              "\n",
              "  function display_loaded() {\n",
              "    var el = document.getElementById(null);\n",
              "    if (el != null) {\n",
              "      el.textContent = \"BokehJS is loading...\";\n",
              "    }\n",
              "    if (root.Bokeh !== undefined) {\n",
              "      if (el != null) {\n",
              "        el.textContent = \"BokehJS \" + root.Bokeh.version + \" successfully loaded.\";\n",
              "      }\n",
              "    } else if (Date.now() < root._bokeh_timeout) {\n",
              "      setTimeout(display_loaded, 100)\n",
              "    }\n",
              "  }\n",
              "\n",
              "\n",
              "  function run_callbacks() {\n",
              "    try {\n",
              "      root._bokeh_onload_callbacks.forEach(function(callback) {\n",
              "        if (callback != null)\n",
              "          callback();\n",
              "      });\n",
              "    } finally {\n",
              "      delete root._bokeh_onload_callbacks\n",
              "    }\n",
              "    console.debug(\"Bokeh: all callbacks have finished\");\n",
              "  }\n",
              "\n",
              "  function load_libs(css_urls, js_urls, callback) {\n",
              "    if (css_urls == null) css_urls = [];\n",
              "    if (js_urls == null) js_urls = [];\n",
              "\n",
              "    root._bokeh_onload_callbacks.push(callback);\n",
              "    if (root._bokeh_is_loading > 0) {\n",
              "      console.debug(\"Bokeh: BokehJS is being loaded, scheduling callback at\", now());\n",
              "      return null;\n",
              "    }\n",
              "    if (js_urls == null || js_urls.length === 0) {\n",
              "      run_callbacks();\n",
              "      return null;\n",
              "    }\n",
              "    console.debug(\"Bokeh: BokehJS not loaded, scheduling load and callback at\", now());\n",
              "    root._bokeh_is_loading = css_urls.length + js_urls.length;\n",
              "\n",
              "    function on_load() {\n",
              "      root._bokeh_is_loading--;\n",
              "      if (root._bokeh_is_loading === 0) {\n",
              "        console.debug(\"Bokeh: all BokehJS libraries/stylesheets loaded\");\n",
              "        run_callbacks()\n",
              "      }\n",
              "    }\n",
              "\n",
              "    function on_error(url) {\n",
              "      console.error(\"failed to load \" + url);\n",
              "    }\n",
              "\n",
              "    for (let i = 0; i < css_urls.length; i++) {\n",
              "      const url = css_urls[i];\n",
              "      const element = document.createElement(\"link\");\n",
              "      element.onload = on_load;\n",
              "      element.onerror = on_error.bind(null, url);\n",
              "      element.rel = \"stylesheet\";\n",
              "      element.type = \"text/css\";\n",
              "      element.href = url;\n",
              "      console.debug(\"Bokeh: injecting link tag for BokehJS stylesheet: \", url);\n",
              "      document.body.appendChild(element);\n",
              "    }\n",
              "\n",
              "    const hashes = {\"https://cdn.bokeh.org/bokeh/release/bokeh-2.3.3.min.js\": \"dM3QQsP+wXdHg42wTqW85BjZQdLNNIXqlPw/BgKoExPmTG7ZLML4EGqLMfqHT6ON\", \"https://cdn.bokeh.org/bokeh/release/bokeh-tables-2.3.3.min.js\": \"8x57I4YuIfu8XyZfFo0XVr2WAT8EK4rh/uDe3wF7YuW2FNUSNEpJbsPaB1nJ2fz2\", \"https://cdn.bokeh.org/bokeh/release/bokeh-widgets-2.3.3.min.js\": \"3QTqdz9LyAm2i0sG5XTePsHec3UHWwVsrOL68SYRoAXsafvfAyqtQ+h440+qIBhS\"};\n",
              "\n",
              "    for (let i = 0; i < js_urls.length; i++) {\n",
              "      const url = js_urls[i];\n",
              "      const element = document.createElement('script');\n",
              "      element.onload = on_load;\n",
              "      element.onerror = on_error.bind(null, url);\n",
              "      element.async = false;\n",
              "      element.src = url;\n",
              "      if (url in hashes) {\n",
              "        element.crossOrigin = \"anonymous\";\n",
              "        element.integrity = \"sha384-\" + hashes[url];\n",
              "      }\n",
              "      console.debug(\"Bokeh: injecting script tag for BokehJS library: \", url);\n",
              "      document.head.appendChild(element);\n",
              "    }\n",
              "  };\n",
              "\n",
              "  function inject_raw_css(css) {\n",
              "    const element = document.createElement(\"style\");\n",
              "    element.appendChild(document.createTextNode(css));\n",
              "    document.body.appendChild(element);\n",
              "  }\n",
              "\n",
              "  \n",
              "  var js_urls = [\"https://cdn.bokeh.org/bokeh/release/bokeh-2.3.3.min.js\", \"https://cdn.bokeh.org/bokeh/release/bokeh-widgets-2.3.3.min.js\", \"https://cdn.bokeh.org/bokeh/release/bokeh-tables-2.3.3.min.js\"];\n",
              "  var css_urls = [];\n",
              "  \n",
              "\n",
              "  var inline_js = [\n",
              "    function(Bokeh) {\n",
              "      Bokeh.set_log_level(\"info\");\n",
              "    },\n",
              "    function(Bokeh) {\n",
              "    \n",
              "    \n",
              "    }\n",
              "  ];\n",
              "\n",
              "  function run_inline_js() {\n",
              "    \n",
              "    if (root.Bokeh !== undefined || force === true) {\n",
              "      \n",
              "    for (var i = 0; i < inline_js.length; i++) {\n",
              "      inline_js[i].call(root, root.Bokeh);\n",
              "    }\n",
              "    } else if (Date.now() < root._bokeh_timeout) {\n",
              "      setTimeout(run_inline_js, 100);\n",
              "    } else if (!root._bokeh_failed_load) {\n",
              "      console.log(\"Bokeh: BokehJS failed to load within specified timeout.\");\n",
              "      root._bokeh_failed_load = true;\n",
              "    } else if (force !== true) {\n",
              "      var cell = $(document.getElementById(null)).parents('.cell').data().cell;\n",
              "      cell.output_area.append_execute_result(NB_LOAD_WARNING)\n",
              "    }\n",
              "\n",
              "  }\n",
              "\n",
              "  if (root._bokeh_is_loading === 0) {\n",
              "    console.debug(\"Bokeh: BokehJS loaded, going straight to plotting\");\n",
              "    run_inline_js();\n",
              "  } else {\n",
              "    load_libs(css_urls, js_urls, function() {\n",
              "      console.debug(\"Bokeh: BokehJS plotting callback run at\", now());\n",
              "      run_inline_js();\n",
              "    });\n",
              "  }\n",
              "}(window));"
            ],
            "application/vnd.bokehjs_load.v0+json": "\n(function(root) {\n  function now() {\n    return new Date();\n  }\n\n  var force = true;\n\n  if (typeof root._bokeh_onload_callbacks === \"undefined\" || force === true) {\n    root._bokeh_onload_callbacks = [];\n    root._bokeh_is_loading = undefined;\n  }\n\n  \n\n  \n  if (typeof (root._bokeh_timeout) === \"undefined\" || force === true) {\n    root._bokeh_timeout = Date.now() + 5000;\n    root._bokeh_failed_load = false;\n  }\n\n  var NB_LOAD_WARNING = {'data': {'text/html':\n     \"<div style='background-color: #fdd'>\\n\"+\n     \"<p>\\n\"+\n     \"BokehJS does not appear to have successfully loaded. If loading BokehJS from CDN, this \\n\"+\n     \"may be due to a slow or bad network connection. Possible fixes:\\n\"+\n     \"</p>\\n\"+\n     \"<ul>\\n\"+\n     \"<li>re-rerun `output_notebook()` to attempt to load from CDN again, or</li>\\n\"+\n     \"<li>use INLINE resources instead, as so:</li>\\n\"+\n     \"</ul>\\n\"+\n     \"<code>\\n\"+\n     \"from bokeh.resources import INLINE\\n\"+\n     \"output_notebook(resources=INLINE)\\n\"+\n     \"</code>\\n\"+\n     \"</div>\"}};\n\n  function display_loaded() {\n    var el = document.getElementById(null);\n    if (el != null) {\n      el.textContent = \"BokehJS is loading...\";\n    }\n    if (root.Bokeh !== undefined) {\n      if (el != null) {\n        el.textContent = \"BokehJS \" + root.Bokeh.version + \" successfully loaded.\";\n      }\n    } else if (Date.now() < root._bokeh_timeout) {\n      setTimeout(display_loaded, 100)\n    }\n  }\n\n\n  function run_callbacks() {\n    try {\n      root._bokeh_onload_callbacks.forEach(function(callback) {\n        if (callback != null)\n          callback();\n      });\n    } finally {\n      delete root._bokeh_onload_callbacks\n    }\n    console.debug(\"Bokeh: all callbacks have finished\");\n  }\n\n  function load_libs(css_urls, js_urls, callback) {\n    if (css_urls == null) css_urls = [];\n    if (js_urls == null) js_urls = [];\n\n    root._bokeh_onload_callbacks.push(callback);\n    if (root._bokeh_is_loading > 0) {\n      console.debug(\"Bokeh: BokehJS is being loaded, scheduling callback at\", now());\n      return null;\n    }\n    if (js_urls == null || js_urls.length === 0) {\n      run_callbacks();\n      return null;\n    }\n    console.debug(\"Bokeh: BokehJS not loaded, scheduling load and callback at\", now());\n    root._bokeh_is_loading = css_urls.length + js_urls.length;\n\n    function on_load() {\n      root._bokeh_is_loading--;\n      if (root._bokeh_is_loading === 0) {\n        console.debug(\"Bokeh: all BokehJS libraries/stylesheets loaded\");\n        run_callbacks()\n      }\n    }\n\n    function on_error(url) {\n      console.error(\"failed to load \" + url);\n    }\n\n    for (let i = 0; i < css_urls.length; i++) {\n      const url = css_urls[i];\n      const element = document.createElement(\"link\");\n      element.onload = on_load;\n      element.onerror = on_error.bind(null, url);\n      element.rel = \"stylesheet\";\n      element.type = \"text/css\";\n      element.href = url;\n      console.debug(\"Bokeh: injecting link tag for BokehJS stylesheet: \", url);\n      document.body.appendChild(element);\n    }\n\n    const hashes = {\"https://cdn.bokeh.org/bokeh/release/bokeh-2.3.3.min.js\": \"dM3QQsP+wXdHg42wTqW85BjZQdLNNIXqlPw/BgKoExPmTG7ZLML4EGqLMfqHT6ON\", \"https://cdn.bokeh.org/bokeh/release/bokeh-tables-2.3.3.min.js\": \"8x57I4YuIfu8XyZfFo0XVr2WAT8EK4rh/uDe3wF7YuW2FNUSNEpJbsPaB1nJ2fz2\", \"https://cdn.bokeh.org/bokeh/release/bokeh-widgets-2.3.3.min.js\": \"3QTqdz9LyAm2i0sG5XTePsHec3UHWwVsrOL68SYRoAXsafvfAyqtQ+h440+qIBhS\"};\n\n    for (let i = 0; i < js_urls.length; i++) {\n      const url = js_urls[i];\n      const element = document.createElement('script');\n      element.onload = on_load;\n      element.onerror = on_error.bind(null, url);\n      element.async = false;\n      element.src = url;\n      if (url in hashes) {\n        element.crossOrigin = \"anonymous\";\n        element.integrity = \"sha384-\" + hashes[url];\n      }\n      console.debug(\"Bokeh: injecting script tag for BokehJS library: \", url);\n      document.head.appendChild(element);\n    }\n  };\n\n  function inject_raw_css(css) {\n    const element = document.createElement(\"style\");\n    element.appendChild(document.createTextNode(css));\n    document.body.appendChild(element);\n  }\n\n  \n  var js_urls = [\"https://cdn.bokeh.org/bokeh/release/bokeh-2.3.3.min.js\", \"https://cdn.bokeh.org/bokeh/release/bokeh-widgets-2.3.3.min.js\", \"https://cdn.bokeh.org/bokeh/release/bokeh-tables-2.3.3.min.js\"];\n  var css_urls = [];\n  \n\n  var inline_js = [\n    function(Bokeh) {\n      Bokeh.set_log_level(\"info\");\n    },\n    function(Bokeh) {\n    \n    \n    }\n  ];\n\n  function run_inline_js() {\n    \n    if (root.Bokeh !== undefined || force === true) {\n      \n    for (var i = 0; i < inline_js.length; i++) {\n      inline_js[i].call(root, root.Bokeh);\n    }\n    } else if (Date.now() < root._bokeh_timeout) {\n      setTimeout(run_inline_js, 100);\n    } else if (!root._bokeh_failed_load) {\n      console.log(\"Bokeh: BokehJS failed to load within specified timeout.\");\n      root._bokeh_failed_load = true;\n    } else if (force !== true) {\n      var cell = $(document.getElementById(null)).parents('.cell').data().cell;\n      cell.output_area.append_execute_result(NB_LOAD_WARNING)\n    }\n\n  }\n\n  if (root._bokeh_is_loading === 0) {\n    console.debug(\"Bokeh: BokehJS loaded, going straight to plotting\");\n    run_inline_js();\n  } else {\n    load_libs(css_urls, js_urls, function() {\n      console.debug(\"Bokeh: BokehJS plotting callback run at\", now());\n      run_inline_js();\n    });\n  }\n}(window));"
          },
          "metadata": {}
        },
        {
          "output_type": "display_data",
          "data": {
            "text/html": [
              "\n",
              "\n",
              "\n",
              "\n",
              "\n",
              "\n",
              "  <div class=\"bk-root\" id=\"3f671794-353e-48ef-b7c2-81826152a69e\" data-root-id=\"1196\"></div>\n"
            ]
          },
          "metadata": {}
        },
        {
          "output_type": "display_data",
          "data": {
            "application/javascript": [
              "(function(root) {\n",
              "  function embed_document(root) {\n",
              "    \n",
              "  var docs_json = {\"1ab799d2-ec15-49d0-9a7f-d949fb802584\":{\"defs\":[],\"roots\":{\"references\":[{\"attributes\":{\"below\":[{\"id\":\"1207\"}],\"center\":[{\"id\":\"1210\"},{\"id\":\"1214\"},{\"id\":\"1256\"}],\"left\":[{\"id\":\"1211\"}],\"renderers\":[{\"id\":\"1232\"}],\"title\":{\"id\":\"1197\"},\"toolbar\":{\"id\":\"1222\"},\"width\":800,\"x_range\":{\"id\":\"1199\"},\"x_scale\":{\"id\":\"1203\"},\"y_range\":{\"id\":\"1201\"},\"y_scale\":{\"id\":\"1205\"}},\"id\":\"1196\",\"subtype\":\"Figure\",\"type\":\"Plot\"},{\"attributes\":{\"active_multi\":null,\"tools\":[{\"id\":\"1215\"},{\"id\":\"1216\"},{\"id\":\"1217\"},{\"id\":\"1218\"},{\"id\":\"1219\"},{\"id\":\"1220\"}]},\"id\":\"1222\",\"type\":\"Toolbar\"},{\"attributes\":{\"data_source\":{\"id\":\"1229\"},\"glyph\":{\"id\":\"1230\"},\"hover_glyph\":null,\"muted_glyph\":null,\"nonselection_glyph\":{\"id\":\"1231\"},\"view\":{\"id\":\"1233\"}},\"id\":\"1232\",\"type\":\"GlyphRenderer\"},{\"attributes\":{\"months\":[0,4,8]},\"id\":\"1250\",\"type\":\"MonthsTicker\"},{\"attributes\":{\"months\":[0,6]},\"id\":\"1251\",\"type\":\"MonthsTicker\"},{\"attributes\":{},\"id\":\"1235\",\"type\":\"AllLabels\"},{\"attributes\":{\"line_alpha\":0.1,\"line_color\":\"#f2a900\",\"x\":{\"field\":\"x\"},\"y\":{\"field\":\"y\"}},\"id\":\"1231\",\"type\":\"Line\"},{\"attributes\":{\"bottom_units\":\"screen\",\"fill_alpha\":0.5,\"fill_color\":\"lightgrey\",\"left_units\":\"screen\",\"level\":\"overlay\",\"line_alpha\":1.0,\"line_color\":\"black\",\"line_dash\":[4,4],\"line_width\":2,\"right_units\":\"screen\",\"syncable\":false,\"top_units\":\"screen\"},\"id\":\"1221\",\"type\":\"BoxAnnotation\"},{\"attributes\":{\"days\":[1,8,15,22]},\"id\":\"1246\",\"type\":\"DaysTicker\"},{\"attributes\":{\"days\":[1,15]},\"id\":\"1247\",\"type\":\"DaysTicker\"},{\"attributes\":{},\"id\":\"1212\",\"type\":\"BasicTicker\"},{\"attributes\":{},\"id\":\"1215\",\"type\":\"PanTool\"},{\"attributes\":{},\"id\":\"1238\",\"type\":\"AllLabels\"},{\"attributes\":{},\"id\":\"1254\",\"type\":\"UnionRenderers\"},{\"attributes\":{},\"id\":\"1216\",\"type\":\"WheelZoomTool\"},{\"attributes\":{\"base\":60,\"mantissas\":[1,2,5,10,15,20,30],\"max_interval\":1800000.0,\"min_interval\":1000.0,\"num_minor_ticks\":0},\"id\":\"1242\",\"type\":\"AdaptiveTicker\"},{\"attributes\":{},\"id\":\"1236\",\"type\":\"DatetimeTickFormatter\"},{\"attributes\":{\"mantissas\":[1,2,5],\"max_interval\":500.0,\"num_minor_ticks\":0},\"id\":\"1241\",\"type\":\"AdaptiveTicker\"},{\"attributes\":{\"overlay\":{\"id\":\"1221\"}},\"id\":\"1217\",\"type\":\"BoxZoomTool\"},{\"attributes\":{\"data\":{\"x\":{\"__ndarray__\":\"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\",\"dtype\":\"float64\",\"order\":\"little\",\"shape\":[337]},\"y\":{\"__ndarray__\":\"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\",\"dtype\":\"float64\",\"order\":\"little\",\"shape\":[337]}},\"selected\":{\"id\":\"1255\"},\"selection_policy\":{\"id\":\"1254\"}},\"id\":\"1229\",\"type\":\"ColumnDataSource\"},{\"attributes\":{},\"id\":\"1218\",\"type\":\"SaveTool\"},{\"attributes\":{\"line_color\":\"#f2a900\",\"x\":{\"field\":\"x\"},\"y\":{\"field\":\"y\"}},\"id\":\"1230\",\"type\":\"Line\"},{\"attributes\":{\"days\":[1,4,7,10,13,16,19,22,25,28]},\"id\":\"1245\",\"type\":\"DaysTicker\"},{\"attributes\":{\"months\":[0,2,4,6,8,10]},\"id\":\"1249\",\"type\":\"MonthsTicker\"},{\"attributes\":{\"text\":\"Crypto Prices\"},\"id\":\"1197\",\"type\":\"Title\"},{\"attributes\":{},\"id\":\"1219\",\"type\":\"ResetTool\"},{\"attributes\":{\"days\":[1,2,3,4,5,6,7,8,9,10,11,12,13,14,15,16,17,18,19,20,21,22,23,24,25,26,27,28,29,30,31]},\"id\":\"1244\",\"type\":\"DaysTicker\"},{\"attributes\":{},\"id\":\"1201\",\"type\":\"DataRange1d\"},{\"attributes\":{\"months\":[0,1,2,3,4,5,6,7,8,9,10,11]},\"id\":\"1248\",\"type\":\"MonthsTicker\"},{\"attributes\":{},\"id\":\"1199\",\"type\":\"DataRange1d\"},{\"attributes\":{},\"id\":\"1220\",\"type\":\"HelpTool\"},{\"attributes\":{\"num_minor_ticks\":5,\"tickers\":[{\"id\":\"1241\"},{\"id\":\"1242\"},{\"id\":\"1243\"},{\"id\":\"1244\"},{\"id\":\"1245\"},{\"id\":\"1246\"},{\"id\":\"1247\"},{\"id\":\"1248\"},{\"id\":\"1249\"},{\"id\":\"1250\"},{\"id\":\"1251\"},{\"id\":\"1252\"}]},\"id\":\"1208\",\"type\":\"DatetimeTicker\"},{\"attributes\":{\"base\":24,\"mantissas\":[1,2,4,6,8,12],\"max_interval\":43200000.0,\"min_interval\":3600000.0,\"num_minor_ticks\":0},\"id\":\"1243\",\"type\":\"AdaptiveTicker\"},{\"attributes\":{\"axis\":{\"id\":\"1207\"},\"grid_line_alpha\":0.3,\"ticker\":null},\"id\":\"1210\",\"type\":\"Grid\"},{\"attributes\":{},\"id\":\"1205\",\"type\":\"LinearScale\"},{\"attributes\":{\"items\":[{\"id\":\"1257\"}],\"location\":\"top_left\"},\"id\":\"1256\",\"type\":\"Legend\"},{\"attributes\":{\"label\":{\"value\":\"Bitcoin\"},\"renderers\":[{\"id\":\"1232\"}]},\"id\":\"1257\",\"type\":\"LegendItem\"},{\"attributes\":{\"axis\":{\"id\":\"1211\"},\"dimension\":1,\"grid_line_alpha\":0.3,\"ticker\":null},\"id\":\"1214\",\"type\":\"Grid\"},{\"attributes\":{},\"id\":\"1239\",\"type\":\"BasicTickFormatter\"},{\"attributes\":{\"source\":{\"id\":\"1229\"}},\"id\":\"1233\",\"type\":\"CDSView\"},{\"attributes\":{\"axis_label\":\"Price\",\"formatter\":{\"id\":\"1239\"},\"major_label_policy\":{\"id\":\"1238\"},\"ticker\":{\"id\":\"1212\"}},\"id\":\"1211\",\"type\":\"LinearAxis\"},{\"attributes\":{},\"id\":\"1203\",\"type\":\"LinearScale\"},{\"attributes\":{},\"id\":\"1255\",\"type\":\"Selection\"},{\"attributes\":{\"axis_label\":\"Date\",\"formatter\":{\"id\":\"1236\"},\"major_label_policy\":{\"id\":\"1235\"},\"ticker\":{\"id\":\"1208\"}},\"id\":\"1207\",\"type\":\"DatetimeAxis\"},{\"attributes\":{},\"id\":\"1252\",\"type\":\"YearsTicker\"}],\"root_ids\":[\"1196\"]},\"title\":\"Bokeh Application\",\"version\":\"2.3.3\"}};\n",
              "  var render_items = [{\"docid\":\"1ab799d2-ec15-49d0-9a7f-d949fb802584\",\"root_ids\":[\"1196\"],\"roots\":{\"1196\":\"3f671794-353e-48ef-b7c2-81826152a69e\"}}];\n",
              "  root.Bokeh.embed.embed_items_notebook(docs_json, render_items);\n",
              "\n",
              "  }\n",
              "  if (root.Bokeh !== undefined) {\n",
              "    embed_document(root);\n",
              "  } else {\n",
              "    var attempts = 0;\n",
              "    var timer = setInterval(function(root) {\n",
              "      if (root.Bokeh !== undefined) {\n",
              "        clearInterval(timer);\n",
              "        embed_document(root);\n",
              "      } else {\n",
              "        attempts++;\n",
              "        if (attempts > 100) {\n",
              "          clearInterval(timer);\n",
              "          console.log(\"Bokeh: ERROR: Unable to run BokehJS code because BokehJS library is missing\");\n",
              "        }\n",
              "      }\n",
              "    }, 10, root)\n",
              "  }\n",
              "})(window);"
            ],
            "application/vnd.bokehjs_exec.v0+json": ""
          },
          "metadata": {
            "application/vnd.bokehjs_exec.v0+json": {
              "id": "1196"
            }
          }
        }
      ]
    },
    {
      "cell_type": "code",
      "source": [
        "#exporting data to excel\n",
        "writer = pd.ExcelWriter('crypto.xlsx')"
      ],
      "metadata": {
        "id": "lb-t38sy5dWY"
      },
      "execution_count": 16,
      "outputs": []
    },
    {
      "cell_type": "code",
      "source": [
        "btc.to_excel(writer,sheet_name='Bitcoin')\n",
        "eth.to_excel(writer,sheet_name='Ether')"
      ],
      "metadata": {
        "id": "owEyHk1R5-yo"
      },
      "execution_count": 17,
      "outputs": []
    },
    {
      "cell_type": "code",
      "source": [
        "writer.save()"
      ],
      "metadata": {
        "id": "yE56IaK56QtD"
      },
      "execution_count": 18,
      "outputs": []
    },
    {
      "cell_type": "code",
      "source": [
        ""
      ],
      "metadata": {
        "id": "9cqPItYs6SdQ"
      },
      "execution_count": null,
      "outputs": []
    },
    {
      "cell_type": "markdown",
      "source": [
        "# New Section"
      ],
      "metadata": {
        "id": "rTmEgIvI6T4d"
      }
    }
  ]
}